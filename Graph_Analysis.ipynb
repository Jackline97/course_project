{
 "cells": [
  {
   "cell_type": "code",
   "execution_count": 1,
   "id": "6d2bf005",
   "metadata": {},
   "outputs": [
    {
     "name": "stdout",
     "output_type": "stream",
     "text": [
      "Metrics for Original Graph:\n",
      "Number of Nodes: 1079\n",
      "Number of Edges: 1687\n",
      "Is Connected: False\n",
      "Number of Connected Components: 159\n",
      "Graph Density: 0.002900713744087238\n",
      "Average Clustering Coefficient: 0.16282283335737735\n",
      "\n",
      "\n",
      "Metrics for Updated Graph:\n",
      "Number of Nodes: 990\n",
      "Number of Edges: 1618\n",
      "Is Connected: False\n",
      "Number of Connected Components: 136\n",
      "Graph Density: 0.0033050423343648824\n",
      "Average Clustering Coefficient: 0.16392311559809353\n",
      "\n",
      "\n",
      "Metrics for Concatenated Graph:\n",
      "Number of Nodes: 990\n",
      "Number of Edges: 2604\n",
      "Is Connected: False\n",
      "Number of Connected Components: 12\n",
      "Graph Density: 0.005319116340349909\n",
      "Average Clustering Coefficient: 0.29055442180850627\n",
      "\n",
      "\n"
     ]
    }
   ],
   "source": [
    "import networkx as nx\n",
    "\n",
    "# Load your graphs\n",
    "org_graph = nx.read_graphml(\"checkpoint/org_graph.graphml\")\n",
    "updated_graph = nx.read_graphml(\"checkpoint/update_graph.graphml\")\n",
    "concat_graph = nx.read_graphml(\"checkpoint/concat_graph.graphml\")\n",
    "\n",
    "graphs = {\"Original Graph\": org_graph, \"Updated Graph\": updated_graph, \"Concatenated Graph\": concat_graph}\n",
    "\n",
    "# Function to compute metrics\n",
    "def compute_metrics(graph, name):\n",
    "    metrics = {}\n",
    "    metrics['Number of Nodes'] = graph.number_of_nodes()\n",
    "    metrics['Number of Edges'] = graph.number_of_edges()\n",
    "    metrics['Is Connected'] = nx.is_connected(graph)\n",
    "    metrics['Number of Connected Components'] = nx.number_connected_components(graph)\n",
    "    metrics['Graph Density'] = nx.density(graph)\n",
    "\n",
    "    # Only compute if the graph is connected\n",
    "    if metrics['Is Connected']:\n",
    "        metrics['Average Shortest Path Length'] = nx.average_shortest_path_length(graph)\n",
    "        metrics['Diameter'] = nx.diameter(graph)\n",
    "    \n",
    "    metrics['Average Clustering Coefficient'] = nx.average_clustering(graph)\n",
    "\n",
    "    print(f\"Metrics for {name}:\")\n",
    "    for key, value in metrics.items():\n",
    "        print(f\"{key}: {value}\")\n",
    "    print(\"\\n\")\n",
    "\n",
    "# Compute and display metrics for each graph\n",
    "for name, graph in graphs.items():\n",
    "    compute_metrics(graph, name)\n"
   ]
  },
  {
   "cell_type": "code",
   "execution_count": 2,
   "id": "41a0647c",
   "metadata": {},
   "outputs": [],
   "source": [
    "import networkx as nx\n",
    "import matplotlib.colors as mcolors\n",
    "import matplotlib.cm as cm\n",
    "from pyvis.network import Network\n",
    "from IPython.display import IFrame, display\n",
    "\n",
    "def visualize(graph, filename='graph2.html'):\n",
    "    # Step 1: Extract unique node types from the graph\n",
    "    unique_types = set()\n",
    "    for node, data in graph.nodes(data=True):\n",
    "        node_type = data.get('type', 'default')\n",
    "        unique_types.add(node_type)\n",
    "\n",
    "    # Step 2: Assign colors to node types\n",
    "    num_types = len(unique_types)\n",
    "    cmap = cm.get_cmap('hsv', num_types)\n",
    "    color_list = [mcolors.rgb2hex(cmap(i)) for i in range(cmap.N)]\n",
    "    type_color_map = dict(zip(sorted(unique_types), color_list))\n",
    "\n",
    "    # Determine if graph is directed\n",
    "    directed = graph.is_directed()\n",
    "\n",
    "    # Step 3: Create a pyvis Network\n",
    "    net = Network(height='750px', width='100%', notebook=True, directed=directed)\n",
    "\n",
    "    # Add nodes\n",
    "    for node, data in graph.nodes(data=True):\n",
    "        node_type = data.get('type', 'default')\n",
    "        color = type_color_map.get(node_type, 'gray')\n",
    "        net.add_node(\n",
    "            node, \n",
    "            label=node, \n",
    "            title=data.get('content', ''), \n",
    "            color=color,\n",
    "            **data\n",
    "        )\n",
    "\n",
    "    # Add edges\n",
    "    for u, v, edata in graph.edges(data=True):\n",
    "        # You can pass edge attributes as needed\n",
    "        net.add_edge(u, v, **edata)\n",
    "\n",
    "    # Customize the appearance\n",
    "    net.repulsion(node_distance=200, central_gravity=0.3)\n",
    "    net.toggle_physics(True)\n",
    "\n",
    "    # Generate and display the network\n",
    "    net.show(filename)\n",
    "\n",
    "    # Display in Jupyter Notebook (if in such an environment)\n",
    "    display(IFrame(filename, width='100%', height='750px'))"
   ]
  },
  {
   "cell_type": "code",
   "execution_count": 5,
   "id": "7459d428",
   "metadata": {},
   "outputs": [
    {
     "name": "stderr",
     "output_type": "stream",
     "text": [
      "C:\\Users\\hughj\\AppData\\Local\\Temp\\ipykernel_23144\\2890026884.py:16: MatplotlibDeprecationWarning: The get_cmap function was deprecated in Matplotlib 3.7 and will be removed in 3.11. Use ``matplotlib.colormaps[name]`` or ``matplotlib.colormaps.get_cmap()`` or ``pyplot.get_cmap()`` instead.\n",
      "  cmap = cm.get_cmap('hsv', num_types)\n"
     ]
    },
    {
     "name": "stdout",
     "output_type": "stream",
     "text": [
      "Warning: When  cdn_resources is 'local' jupyter notebook has issues displaying graphics on chrome/safari. Use cdn_resources='in_line' or cdn_resources='remote' if you have issues viewing graphics in a notebook.\n",
      "graph3.html\n"
     ]
    },
    {
     "data": {
      "text/html": [
       "\n",
       "        <iframe\n",
       "            width=\"100%\"\n",
       "            height=\"750px\"\n",
       "            src=\"graph3.html\"\n",
       "            frameborder=\"0\"\n",
       "            allowfullscreen\n",
       "            \n",
       "        ></iframe>\n",
       "        "
      ],
      "text/plain": [
       "<IPython.lib.display.IFrame at 0x25b63b0a770>"
      ]
     },
     "metadata": {},
     "output_type": "display_data"
    }
   ],
   "source": [
    "visualize(concat_graph, filename='graph3.html')"
   ]
  },
  {
   "cell_type": "code",
   "execution_count": null,
   "id": "37e217a0",
   "metadata": {},
   "outputs": [],
   "source": []
  }
 ],
 "metadata": {
  "kernelspec": {
   "display_name": "CRA_LLM",
   "language": "python",
   "name": "myenv"
  },
  "language_info": {
   "codemirror_mode": {
    "name": "ipython",
    "version": 3
   },
   "file_extension": ".py",
   "mimetype": "text/x-python",
   "name": "python",
   "nbconvert_exporter": "python",
   "pygments_lexer": "ipython3",
   "version": "3.10.9"
  }
 },
 "nbformat": 4,
 "nbformat_minor": 5
}
