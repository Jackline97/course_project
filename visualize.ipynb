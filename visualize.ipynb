{
 "cells": [
  {
   "cell_type": "code",
   "execution_count": 1,
   "id": "eb48a669",
   "metadata": {},
   "outputs": [],
   "source": [
    "import networkx as nx\n",
    "updated_graph = nx.read_graphml(\"concat_graph.graphml\")"
   ]
  },
  {
   "cell_type": "code",
   "execution_count": 3,
   "id": "3d87dd0c",
   "metadata": {},
   "outputs": [],
   "source": [
    "import networkx as nx\n",
    "import matplotlib.colors as mcolors\n",
    "import matplotlib.cm as cm\n",
    "from pyvis.network import Network\n",
    "from IPython.display import IFrame, display\n",
    "\n",
    "def visualize(graph, filename='graph2.html'):\n",
    "    # Step 1: Extract unique node types from the graph\n",
    "    unique_types = set()\n",
    "    for node, data in graph.nodes(data=True):\n",
    "        node_type = data.get('type', 'default')\n",
    "        unique_types.add(node_type)\n",
    "\n",
    "    # Step 2: Assign colors to node types\n",
    "    num_types = len(unique_types)\n",
    "    cmap = cm.get_cmap('hsv', num_types)\n",
    "    color_list = [mcolors.rgb2hex(cmap(i)) for i in range(cmap.N)]\n",
    "    type_color_map = dict(zip(sorted(unique_types), color_list))\n",
    "\n",
    "    # Determine if graph is directed\n",
    "    directed = graph.is_directed()\n",
    "\n",
    "    # Step 3: Create a pyvis Network\n",
    "    net = Network(height='750px', width='100%', notebook=True, directed=directed)\n",
    "\n",
    "    # Add nodes\n",
    "    for node, data in graph.nodes(data=True):\n",
    "        node_type = data.get('type', 'default')\n",
    "        color = type_color_map.get(node_type, 'gray')\n",
    "        net.add_node(\n",
    "            node, \n",
    "            label=node, \n",
    "            title=data.get('content', ''), \n",
    "            color=color,\n",
    "            **data\n",
    "        )\n",
    "\n",
    "    # Add edges\n",
    "    for u, v, edata in graph.edges(data=True):\n",
    "        # You can pass edge attributes as needed\n",
    "        net.add_edge(u, v, **edata)\n",
    "\n",
    "    # Customize the appearance\n",
    "    net.repulsion(node_distance=200, central_gravity=0.3)\n",
    "    net.toggle_physics(True)\n",
    "\n",
    "    # Generate and display the network\n",
    "    net.show(filename)\n",
    "\n",
    "    # Display in Jupyter Notebook (if in such an environment)\n",
    "    display(IFrame(filename, width='100%', height='750px'))"
   ]
  },
  {
   "cell_type": "code",
   "execution_count": 4,
   "id": "d0cdc50b",
   "metadata": {},
   "outputs": [
    {
     "name": "stderr",
     "output_type": "stream",
     "text": [
      "C:\\Users\\hughj\\AppData\\Local\\Temp\\ipykernel_5436\\2890026884.py:16: MatplotlibDeprecationWarning: The get_cmap function was deprecated in Matplotlib 3.7 and will be removed in 3.11. Use ``matplotlib.colormaps[name]`` or ``matplotlib.colormaps.get_cmap()`` or ``pyplot.get_cmap()`` instead.\n",
      "  cmap = cm.get_cmap('hsv', num_types)\n"
     ]
    },
    {
     "name": "stdout",
     "output_type": "stream",
     "text": [
      "Warning: When  cdn_resources is 'local' jupyter notebook has issues displaying graphics on chrome/safari. Use cdn_resources='in_line' or cdn_resources='remote' if you have issues viewing graphics in a notebook.\n",
      "graph2.html\n"
     ]
    },
    {
     "data": {
      "text/html": [
       "\n",
       "        <iframe\n",
       "            width=\"100%\"\n",
       "            height=\"750px\"\n",
       "            src=\"graph2.html\"\n",
       "            frameborder=\"0\"\n",
       "            allowfullscreen\n",
       "            \n",
       "        ></iframe>\n",
       "        "
      ],
      "text/plain": [
       "<IPython.lib.display.IFrame at 0x204be84f010>"
      ]
     },
     "metadata": {},
     "output_type": "display_data"
    }
   ],
   "source": [
    "visualize(updated_graph)"
   ]
  }
 ],
 "metadata": {
  "kernelspec": {
   "display_name": "CRA_LLM",
   "language": "python",
   "name": "myenv"
  },
  "language_info": {
   "codemirror_mode": {
    "name": "ipython",
    "version": 3
   },
   "file_extension": ".py",
   "mimetype": "text/x-python",
   "name": "python",
   "nbconvert_exporter": "python",
   "pygments_lexer": "ipython3",
   "version": "3.10.9"
  }
 },
 "nbformat": 4,
 "nbformat_minor": 5
}
