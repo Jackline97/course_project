{
 "cells": [
  {
   "cell_type": "code",
   "execution_count": 1,
   "id": "d042ed5c",
   "metadata": {},
   "outputs": [],
   "source": [
    "import pandas as pd"
   ]
  },
  {
   "cell_type": "code",
   "execution_count": 2,
   "id": "f2cd764a",
   "metadata": {},
   "outputs": [],
   "source": [
    "node_df = pd.read_csv('checkpoint/nodes_info.csv')\n",
    "edge_df = pd.read_csv('checkpoint/edge_info.csv')\n",
    "community_df = pd.read_csv('checkpoint/community_info.csv')"
   ]
  },
  {
   "cell_type": "code",
   "execution_count": 3,
   "id": "0dc7cd0f",
   "metadata": {},
   "outputs": [
    {
     "name": "stderr",
     "output_type": "stream",
     "text": [
      "F:\\anaconda\\envs\\CRA_LLM\\lib\\site-packages\\tqdm\\auto.py:21: TqdmWarning: IProgress not found. Please update jupyter and ipywidgets. See https://ipywidgets.readthedocs.io/en/stable/user_install.html\n",
      "  from .autonotebook import tqdm as notebook_tqdm\n"
     ]
    }
   ],
   "source": [
    "import pandas as pd\n",
    "from sentence_transformers import SentenceTransformer\n",
    "import faiss\n",
    "import numpy as np\n",
    "import os\n",
    "\n",
    "def encode_and_store_embeddings(\n",
    "    df: pd.DataFrame,\n",
    "    target_column: str = \"content\",\n",
    "    save_folder: str = \"checkpoint\",\n",
    "    model_name: str = \"stella_en_400M_v5\",\n",
    "    prompt_name: str = None,  # Currently unused for documents\n",
    "    embedding_output_path: str = \"faiss_index.index\",\n",
    "    device: str = \"cuda\"\n",
    ") -> np.ndarray:\n",
    "    \"\"\"\n",
    "    Encodes text from a specified column in a DataFrame using a SentenceTransformer model,\n",
    "    then stores the embeddings in a FAISS index on disk.\n",
    "\n",
    "    Parameters\n",
    "    ----------\n",
    "    df : pd.DataFrame\n",
    "        The input DataFrame containing text data.\n",
    "    target_column : str, optional\n",
    "        The column in df that contains the text to be embedded.\n",
    "        Default is \"content\".\n",
    "    save_folder : str, optional\n",
    "        Folder path where the FAISS index will be saved.\n",
    "        Default is \"checkpoint\".\n",
    "    model_name : str, optional\n",
    "        Name of the SentenceTransformer model to load.\n",
    "        Default is \"dunzhang/stella_en_400M_v5\".\n",
    "    prompt_name : str, optional\n",
    "        Prompt name for specialized encoding; currently unused for documents.\n",
    "    embedding_output_path : str, optional\n",
    "        File name for the FAISS index.\n",
    "        Default is \"faiss_index.index\".\n",
    "    device : str, optional\n",
    "        Device to run the model on (\"cuda\" or \"cpu\").\n",
    "        Default is \"cuda\".\n",
    "\n",
    "    Returns\n",
    "    -------\n",
    "    np.ndarray\n",
    "        Numpy array of shape (num_documents, embedding_dimension) containing the embeddings.\n",
    "    \"\"\"\n",
    "\n",
    "    # 1) Validate the DataFrame and column\n",
    "    if target_column not in df.columns:\n",
    "        raise ValueError(f\"The DataFrame must contain the '{target_column}' column.\")\n",
    "\n",
    "    # 2) Ensure the save folder exists\n",
    "    os.makedirs(save_folder, exist_ok=True)\n",
    "\n",
    "    # 3) Initialize the model\n",
    "    print(f\"Loading model '{model_name}' onto device '{device}'...\")\n",
    "    model = SentenceTransformer(model_name, trust_remote_code=True).to(device)\n",
    "\n",
    "    # 4) Retrieve texts from the target column\n",
    "    docs = df[target_column].tolist()\n",
    "    print(f\"Encoding {len(docs)} documents from column '{target_column}'...\")\n",
    "\n",
    "    # 5) Encode the texts\n",
    "    embeddings = model.encode(\n",
    "        docs,\n",
    "        show_progress_bar=True,\n",
    "        device=device,\n",
    "        convert_to_numpy=True\n",
    "    ).astype(np.float32)\n",
    "\n",
    "    # 6) Create a FAISS index and add the embeddings\n",
    "    embedding_dim = embeddings.shape[1]\n",
    "    print(f\"Embeddings shape: {embeddings.shape} (dim={embedding_dim})\")\n",
    "\n",
    "    index = faiss.IndexFlatL2(embedding_dim)  # L2 distance index\n",
    "    index.add(embeddings)\n",
    "    print(f\"FAISS index now contains {index.ntotal} embeddings.\")\n",
    "\n",
    "    # 7) Save the FAISS index to disk\n",
    "    index_path = os.path.join(save_folder, embedding_output_path)\n",
    "    faiss.write_index(index, index_path)\n",
    "    print(f\"Saved FAISS index to '{index_path}'.\")\n",
    "\n",
    "    # 8) Return the embeddings\n",
    "    return embeddings"
   ]
  },
  {
   "cell_type": "code",
   "execution_count": 4,
   "id": "07f017a4",
   "metadata": {},
   "outputs": [
    {
     "name": "stdout",
     "output_type": "stream",
     "text": [
      "Loading model 'stella_en_400M_v5' onto device 'cuda'...\n"
     ]
    },
    {
     "name": "stderr",
     "output_type": "stream",
     "text": [
      "A matching Triton is not available, some optimizations will not be enabled\n",
      "Traceback (most recent call last):\n",
      "  File \"F:\\anaconda\\envs\\CRA_LLM\\lib\\site-packages\\xformers\\__init__.py\", line 57, in _is_triton_available\n",
      "    import triton  # noqa\n",
      "ModuleNotFoundError: No module named 'triton'\n",
      "Some weights of the model checkpoint at stella_en_400M_v5 were not used when initializing NewModel: ['new.pooler.dense.bias', 'new.pooler.dense.weight']\n",
      "- This IS expected if you are initializing NewModel from the checkpoint of a model trained on another task or with another architecture (e.g. initializing a BertForSequenceClassification model from a BertForPreTraining model).\n",
      "- This IS NOT expected if you are initializing NewModel from the checkpoint of a model that you expect to be exactly identical (initializing a BertForSequenceClassification model from a BertForSequenceClassification model).\n"
     ]
    },
    {
     "name": "stdout",
     "output_type": "stream",
     "text": [
      "Encoding 56 documents from column 'content'...\n"
     ]
    },
    {
     "name": "stderr",
     "output_type": "stream",
     "text": [
      "Batches: 100%|███████████████████████████████████████████████████████████████████████████| 2/2 [00:00<00:00,  2.29it/s]"
     ]
    },
    {
     "name": "stdout",
     "output_type": "stream",
     "text": [
      "Embeddings shape: (56, 8192) (dim=8192)\n",
      "FAISS index now contains 56 embeddings.\n",
      "Saved FAISS index to 'checkpoint\\faiss_graph_index.index'.\n"
     ]
    },
    {
     "name": "stderr",
     "output_type": "stream",
     "text": [
      "\n"
     ]
    }
   ],
   "source": [
    "community_embed = encode_and_store_embeddings(df=community_df, embedding_output_path = \"faiss_graph_index.index\")"
   ]
  },
  {
   "cell_type": "code",
   "execution_count": 5,
   "id": "9e9d3b3b",
   "metadata": {},
   "outputs": [
    {
     "name": "stderr",
     "output_type": "stream",
     "text": [
      "Some weights of the model checkpoint at stella_en_400M_v5 were not used when initializing NewModel: ['new.pooler.dense.bias', 'new.pooler.dense.weight']\n",
      "- This IS expected if you are initializing NewModel from the checkpoint of a model trained on another task or with another architecture (e.g. initializing a BertForSequenceClassification model from a BertForPreTraining model).\n",
      "- This IS NOT expected if you are initializing NewModel from the checkpoint of a model that you expect to be exactly identical (initializing a BertForSequenceClassification model from a BertForSequenceClassification model).\n"
     ]
    },
    {
     "name": "stdout",
     "output_type": "stream",
     "text": [
      "Loading model 'stella_en_400M_v5' onto device 'cuda'...\n",
      "Encoding 324 documents from column 'content'...\n"
     ]
    },
    {
     "name": "stderr",
     "output_type": "stream",
     "text": [
      "Batches: 100%|█████████████████████████████████████████████████████████████████████████| 11/11 [00:00<00:00, 24.73it/s]\n"
     ]
    },
    {
     "name": "stdout",
     "output_type": "stream",
     "text": [
      "Embeddings shape: (324, 8192) (dim=8192)\n",
      "FAISS index now contains 324 embeddings.\n",
      "Saved FAISS index to 'checkpoint\\faiss_node_index.index'.\n"
     ]
    }
   ],
   "source": [
    "node_embed = encode_and_store_embeddings(df=node_df, embedding_output_path = \"faiss_node_index.index\")"
   ]
  },
  {
   "cell_type": "code",
   "execution_count": 6,
   "id": "94da25cc",
   "metadata": {},
   "outputs": [
    {
     "name": "stderr",
     "output_type": "stream",
     "text": [
      "Some weights of the model checkpoint at stella_en_400M_v5 were not used when initializing NewModel: ['new.pooler.dense.bias', 'new.pooler.dense.weight']\n",
      "- This IS expected if you are initializing NewModel from the checkpoint of a model trained on another task or with another architecture (e.g. initializing a BertForSequenceClassification model from a BertForPreTraining model).\n",
      "- This IS NOT expected if you are initializing NewModel from the checkpoint of a model that you expect to be exactly identical (initializing a BertForSequenceClassification model from a BertForSequenceClassification model).\n"
     ]
    },
    {
     "name": "stdout",
     "output_type": "stream",
     "text": [
      "Loading model 'stella_en_400M_v5' onto device 'cuda'...\n",
      "Encoding 917 documents from column 'content'...\n"
     ]
    },
    {
     "name": "stderr",
     "output_type": "stream",
     "text": [
      "Batches: 100%|█████████████████████████████████████████████████████████████████████████| 29/29 [00:00<00:00, 34.56it/s]"
     ]
    },
    {
     "name": "stdout",
     "output_type": "stream",
     "text": [
      "Embeddings shape: (917, 8192) (dim=8192)\n",
      "FAISS index now contains 917 embeddings.\n",
      "Saved FAISS index to 'checkpoint\\faiss_edge_index.index'.\n"
     ]
    },
    {
     "name": "stderr",
     "output_type": "stream",
     "text": [
      "\n"
     ]
    }
   ],
   "source": [
    "edge_embed = encode_and_store_embeddings(df=edge_df, embedding_output_path = \"faiss_edge_index.index\")"
   ]
  },
  {
   "cell_type": "code",
   "execution_count": null,
   "id": "05a1bd31",
   "metadata": {},
   "outputs": [],
   "source": []
  }
 ],
 "metadata": {
  "kernelspec": {
   "display_name": "CRA_LLM",
   "language": "python",
   "name": "myenv"
  },
  "language_info": {
   "codemirror_mode": {
    "name": "ipython",
    "version": 3
   },
   "file_extension": ".py",
   "mimetype": "text/x-python",
   "name": "python",
   "nbconvert_exporter": "python",
   "pygments_lexer": "ipython3",
   "version": "3.10.9"
  }
 },
 "nbformat": 4,
 "nbformat_minor": 5
}
